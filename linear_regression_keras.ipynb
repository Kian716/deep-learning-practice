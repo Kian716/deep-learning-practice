{
 "cells": [
  {
   "attachments": {},
   "cell_type": "markdown",
   "metadata": {},
   "source": [
    "### 生成数据集 "
   ]
  },
  {
   "cell_type": "code",
   "execution_count": 1,
   "metadata": {},
   "outputs": [],
   "source": [
    "import numpy\n",
    "import tensorflow as tf"
   ]
  },
  {
   "cell_type": "code",
   "execution_count": 2,
   "metadata": {},
   "outputs": [],
   "source": [
    "def synthetic_data(w, b, num_examples):  #@save\n",
    "    \"\"\"生成y=Xw+b+噪声\"\"\"\n",
    "    X = tf.zeros((num_examples, w.shape[0]))\n",
    "    X += tf.random.normal(shape=X.shape)\n",
    "    y = tf.matmul(X, tf.reshape(w, (-1, 1))) + b\n",
    "    y += tf.random.normal(shape=y.shape, stddev=0.01)\n",
    "    y = tf.reshape(y, (-1, 1))\n",
    "    return X, y"
   ]
  },
  {
   "cell_type": "code",
   "execution_count": 3,
   "metadata": {},
   "outputs": [],
   "source": [
    "true_w = tf.constant([2, -3.4])\n",
    "true_b = 4.2\n",
    "features, labels = synthetic_data(true_w, true_b, 1000)"
   ]
  },
  {
   "attachments": {},
   "cell_type": "markdown",
   "metadata": {},
   "source": [
    "### 读取数据集 "
   ]
  },
  {
   "cell_type": "code",
   "execution_count": 7,
   "metadata": {},
   "outputs": [],
   "source": [
    "def load_array(data_arrays, batch_size, is_train=True):\n",
    "    '''\n",
    "    Parameters\\n\n",
    "    - is_train : 是否在每个迭代周期内打乱顺序 \n",
    "    '''\n",
    "    dataset = tf.data.Dataset.from_tensor_slices(data_arrays) # 用来把每个样本的feature和label\n",
    "    if is_train:\n",
    "        dataset = dataset.shuffle(buffer_size=1000)\n",
    "    dataset = dataset.batch(batch_size) # 划分batch\n",
    "    return dataset\n"
   ]
  },
  {
   "cell_type": "code",
   "execution_count": 5,
   "metadata": {},
   "outputs": [],
   "source": [
    "batch_size = 10\n",
    "data_iter = load_array((features, labels), batch_size)"
   ]
  },
  {
   "cell_type": "code",
   "execution_count": 6,
   "metadata": {},
   "outputs": [
    {
     "name": "stdout",
     "output_type": "stream",
     "text": [
      "(<tf.Tensor: shape=(10, 2), dtype=float32, numpy=\n",
      "array([[-0.611035  ,  0.114004  ],\n",
      "       [-0.45226982,  1.3199145 ],\n",
      "       [-1.6873332 , -0.5913188 ],\n",
      "       [ 1.2383558 , -0.02191277],\n",
      "       [ 1.800311  ,  1.2321577 ],\n",
      "       [-0.9123915 , -0.27701122],\n",
      "       [-0.15132841,  0.5264662 ],\n",
      "       [-0.23542288, -0.7864649 ],\n",
      "       [-0.3037398 , -0.5067806 ],\n",
      "       [ 0.56812906, -0.6825509 ]], dtype=float32)>, <tf.Tensor: shape=(10, 1), dtype=float32, numpy=\n",
      "array([[ 2.596919 ],\n",
      "       [-1.1839564],\n",
      "       [ 2.821555 ],\n",
      "       [ 6.7503448],\n",
      "       [ 3.620641 ],\n",
      "       [ 3.336409 ],\n",
      "       [ 2.1190257],\n",
      "       [ 6.4106236],\n",
      "       [ 5.309436 ],\n",
      "       [ 7.649465 ]], dtype=float32)>)\n"
     ]
    }
   ],
   "source": [
    "for data in data_iter:\n",
    "    print(data)\n",
    "    break"
   ]
  },
  {
   "cell_type": "code",
   "execution_count": null,
   "metadata": {},
   "outputs": [],
   "source": []
  }
 ],
 "metadata": {
  "kernelspec": {
   "display_name": "Python 3.8.13 ('loc_pred')",
   "language": "python",
   "name": "python3"
  },
  "language_info": {
   "codemirror_mode": {
    "name": "ipython",
    "version": 3
   },
   "file_extension": ".py",
   "mimetype": "text/x-python",
   "name": "python",
   "nbconvert_exporter": "python",
   "pygments_lexer": "ipython3",
   "version": "3.8.13"
  },
  "orig_nbformat": 4,
  "vscode": {
   "interpreter": {
    "hash": "bb210df15ccbc807886e443738f30d2650868bc41b7c3ce172e2655787add45a"
   }
  }
 },
 "nbformat": 4,
 "nbformat_minor": 2
}
